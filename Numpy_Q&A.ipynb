{
 "cells": [
  {
   "cell_type": "code",
   "execution_count": 95,
   "metadata": {},
   "outputs": [],
   "source": [
    "import numpy as np\n",
    "import cv2\n"
   ]
  },
  {
   "cell_type": "markdown",
   "metadata": {},
   "source": [
    "# Q1: implement a linear regression model\n",
    "data row1 > header \n",
    " ### 1: data preprocessing \n",
    "       #i. apply to_add array to data where element 1 added to row 1 , element 2 added to row 2 and so on \n",
    "       #ii.apply to_Mult array to the data row by to \n",
    " ### 2: get the prediction values using the hyposis function weight array (regression_model)"
   ]
  },
  {
   "cell_type": "code",
   "execution_count": 96,
   "metadata": {},
   "outputs": [],
   "source": [
    "Data= np.array([[1000,1001,1002,1003],\n",
    "                [8,18,28,38],\n",
    "               [16,26,36,46],\n",
    "               [4,14,24,44]],dtype=\"int64\")\n",
    "\n",
    "to_add=np.array([2,4,6])\n",
    "to_mult=np.array([10,100,1000,1000])\n",
    "regression_model=np.array([2,4,6,8])"
   ]
  },
  {
   "cell_type": "code",
   "execution_count": 97,
   "metadata": {
    "scrolled": true
   },
   "outputs": [
    {
     "name": "stdout",
     "output_type": "stream",
     "text": [
      "[[ 8 18 28 38]\n",
      " [16 26 36 46]\n",
      " [ 4 14 24 44]]\n"
     ]
    }
   ],
   "source": [
    "##step1 print dataset without header row\n",
    "Data = Data[1:,:]\n",
    "print(Data)"
   ]
  },
  {
   "cell_type": "code",
   "execution_count": 98,
   "metadata": {
    "scrolled": true
   },
   "outputs": [
    {
     "name": "stdout",
     "output_type": "stream",
     "text": [
      "[[10 20 30 40]\n",
      " [20 30 40 50]\n",
      " [10 20 30 50]]\n"
     ]
    }
   ],
   "source": [
    "###step2 i. to_Add\n",
    "Data = Data + to_add.reshape(3,1)\n",
    "print(Data)"
   ]
  },
  {
   "cell_type": "code",
   "execution_count": 99,
   "metadata": {},
   "outputs": [
    {
     "name": "stdout",
     "output_type": "stream",
     "text": [
      "[[  100  2000 30000 40000]\n",
      " [  200  3000 40000 50000]\n",
      " [  100  2000 30000 50000]]\n"
     ]
    }
   ],
   "source": [
    "##step3 ii. to_MUlt\n",
    "Data = Data * to_mult\n",
    "print(Data)"
   ]
  },
  {
   "cell_type": "code",
   "execution_count": 100,
   "metadata": {},
   "outputs": [
    {
     "name": "stdout",
     "output_type": "stream",
     "text": [
      "[[508200]\n",
      " [652400]\n",
      " [588200]]\n"
     ]
    }
   ],
   "source": [
    "###step4 prediction results\n",
    "\n",
    "Prediction = Data @ regression_model.reshape(4,1)\n",
    "print(Prediction)"
   ]
  },
  {
   "cell_type": "markdown",
   "metadata": {},
   "source": [
    "# Q2. Transformation\n",
    "\n",
    "### apply crop , rotation  to the image \n",
    "\n",
    "#1: convert image from  BGR scale to Gray , Red ,Green & Blue scale\n",
    "#2: crop the right  half\n",
    "#3: crop the right bottom quarter\n",
    "#4: zoom in by remove the quarter border from all sides \n",
    "#5: flip on x-axis \n",
    "#6: flip on y-axis "
   ]
  },
  {
   "cell_type": "code",
   "execution_count": 101,
   "metadata": {},
   "outputs": [],
   "source": [
    "image=cv2.imread(\"image.jpg\") ### in_BGR\n",
    "cv2.imshow(\"original_image\",image)\n",
    "cv2.waitKey(0)\n",
    "cv2.destroyAllWindows()"
   ]
  },
  {
   "cell_type": "code",
   "execution_count": 102,
   "metadata": {},
   "outputs": [
    {
     "name": "stdout",
     "output_type": "stream",
     "text": [
      "[[[246 236 236]\n",
      "  [247 237 237]\n",
      "  [248 238 238]\n",
      "  ...\n",
      "  [250 242 235]\n",
      "  [250 242 235]\n",
      "  [250 242 235]]\n",
      "\n",
      " [[246 236 236]\n",
      "  [246 236 236]\n",
      "  [247 237 237]\n",
      "  ...\n",
      "  [249 241 234]\n",
      "  [249 241 234]\n",
      "  [249 241 234]]\n",
      "\n",
      " [[245 235 235]\n",
      "  [246 236 236]\n",
      "  [247 237 237]\n",
      "  ...\n",
      "  [248 240 233]\n",
      "  [248 240 233]\n",
      "  [248 240 233]]\n",
      "\n",
      " ...\n",
      "\n",
      " [[ 28  35  20]\n",
      "  [ 47  54  39]\n",
      "  [ 65  72  59]\n",
      "  ...\n",
      "  [ 26  60  66]\n",
      "  [ 26  60  66]\n",
      "  [ 24  60  66]]\n",
      "\n",
      " [[ 39  46  31]\n",
      "  [ 61  68  53]\n",
      "  [ 75  82  69]\n",
      "  ...\n",
      "  [ 19  61  68]\n",
      "  [ 19  60  69]\n",
      "  [ 17  61  68]]\n",
      "\n",
      " [[ 75  85  69]\n",
      "  [ 98 108  92]\n",
      "  [107 116 103]\n",
      "  ...\n",
      "  [ 17  64  72]\n",
      "  [ 17  63  74]\n",
      "  [ 15  64  72]]]\n"
     ]
    }
   ],
   "source": [
    "## step1 print image data \n",
    "\n",
    "print(image)"
   ]
  },
  {
   "cell_type": "code",
   "execution_count": 103,
   "metadata": {},
   "outputs": [
    {
     "name": "stdout",
     "output_type": "stream",
     "text": [
      "(183, 276, 3)\n"
     ]
    }
   ],
   "source": [
    "## step2 print image shape\n",
    "\n",
    "print(image.shape)"
   ]
  },
  {
   "cell_type": "code",
   "execution_count": 104,
   "metadata": {},
   "outputs": [
    {
     "name": "stdout",
     "output_type": "stream",
     "text": [
      "183 276\n"
     ]
    }
   ],
   "source": [
    "## step3  get the value of lx ,ly \n",
    "\n",
    "lx= len(image[:,0,0]) #image.shape[0]\n",
    "ly= len(image[0,:,0]) #image.shape[1]\n",
    "\n",
    "print(lx,ly)"
   ]
  },
  {
   "cell_type": "code",
   "execution_count": 105,
   "metadata": {},
   "outputs": [],
   "source": [
    "### step4 image in gray scale \n",
    "cv2.imshow(\"Gray scale\",image[:,:,0])\n",
    "cv2.waitKey(0)\n",
    "cv2.destroyAllWindows()"
   ]
  },
  {
   "cell_type": "code",
   "execution_count": 106,
   "metadata": {},
   "outputs": [
    {
     "name": "stdout",
     "output_type": "stream",
     "text": [
      "(183, 276, 3)\n"
     ]
    }
   ],
   "source": [
    "### step 5 image in Blue scale\n",
    "blue = np.concatenate((np.ones_like(image[:,:,0]).reshape(lx,ly,1),np.zeros_like(image[:,:,0]).reshape(lx,ly,1),np.zeros_like(image[:,:,0]).reshape(lx,ly,1)),axis=2)\n",
    "print(blue.shape)\n",
    "cv2.imshow(\"Blue Scale\",image*blue)\n",
    "cv2.waitKey(0)\n",
    "cv2.destroyAllWindows()"
   ]
  },
  {
   "cell_type": "code",
   "execution_count": 107,
   "metadata": {},
   "outputs": [
    {
     "name": "stdout",
     "output_type": "stream",
     "text": [
      "(183, 276, 3)\n"
     ]
    }
   ],
   "source": [
    "### step 6 image in red scale \n",
    "red = np.concatenate((np.zeros_like(image[:,:,0]).reshape(lx,ly,1),np.zeros_like(image[:,:,0]).reshape(lx,ly,1),np.ones_like(image[:,:,0]).reshape(lx,ly,1)),axis=2)\n",
    "print(red.shape)\n",
    "cv2.imshow(\"Red Scale\",image*red)\n",
    "cv2.waitKey(0)\n",
    "cv2.destroyAllWindows()"
   ]
  },
  {
   "cell_type": "code",
   "execution_count": 108,
   "metadata": {},
   "outputs": [
    {
     "name": "stdout",
     "output_type": "stream",
     "text": [
      "(183, 276, 3)\n"
     ]
    }
   ],
   "source": [
    "### step 7 image in Green scale \n",
    "green = np.concatenate((np.zeros_like(image[:,:,0]).reshape(lx,ly,1),np.ones_like(image[:,:,0]).reshape(lx,ly,1),np.zeros_like(image[:,:,0]).reshape(lx,ly,1)),axis=2)\n",
    "print(green.shape)\n",
    "cv2.imshow(\"Green scale\",image*green)\n",
    "cv2.waitKey(0)\n",
    "cv2.destroyAllWindows()"
   ]
  },
  {
   "cell_type": "code",
   "execution_count": 109,
   "metadata": {},
   "outputs": [],
   "source": [
    "# step 8 crop the right half\n",
    "cv2.imshow(\"original_image\",image)\n",
    "cv2.imshow(\" right half\",image[:,ly//2:,:])\n",
    "cv2.waitKey(0)\n",
    "cv2.destroyAllWindows()"
   ]
  },
  {
   "cell_type": "code",
   "execution_count": 110,
   "metadata": {},
   "outputs": [],
   "source": [
    "## step 9 crop the right bottom quarter\n",
    "cv2.imshow(\"gray\",image[:,:,1])\n",
    "cv2.imshow(\" right bottom quarter\",image[lx//2:,ly//2:,1])\n",
    "cv2.waitKey(0)\n",
    "cv2.destroyAllWindows()"
   ]
  },
  {
   "cell_type": "code",
   "execution_count": 111,
   "metadata": {},
   "outputs": [],
   "source": [
    "## step 10 remove the quarter border from all sides \n",
    "cv2.imshow(\"original_image\",image)\n",
    "cv2.imshow(\" zoom in \",image[lx//4:lx//4*3,ly//4:ly//4*3,:])\n",
    "cv2.waitKey(0)\n",
    "cv2.destroyAllWindows()"
   ]
  },
  {
   "cell_type": "code",
   "execution_count": 112,
   "metadata": {},
   "outputs": [],
   "source": [
    "## step 11 flip on x-axis \n",
    "cv2.imshow(\"original_image\",image)\n",
    "cv2.imshow(\" flip the image in x axis \",image[::-1,:,:])\n",
    "cv2.waitKey(0)\n",
    "cv2.destroyAllWindows()"
   ]
  },
  {
   "cell_type": "code",
   "execution_count": 113,
   "metadata": {},
   "outputs": [],
   "source": [
    "## step 12 flip on y-axis\n",
    "cv2.imshow(\"original_image\",image)\n",
    "cv2.imshow(\" flip the image in y axis \",image[:,::-1,:])\n",
    "cv2.waitKey(0)\n",
    "cv2.destroyAllWindows()"
   ]
  },
  {
   "cell_type": "markdown",
   "metadata": {},
   "source": [
    "## Q3  Write a program to broadcast on different shapes of arrays where p(3,3) + q(3)\n",
    "\n",
    "- p >> [[0, 0, 0],[1, 2, 3],[4, 5, 6]]\n",
    "- q >> [10, 11, 12]"
   ]
  },
  {
   "cell_type": "code",
   "execution_count": 114,
   "metadata": {},
   "outputs": [
    {
     "name": "stdout",
     "output_type": "stream",
     "text": [
      "[[10 11 12]\n",
      " [11 13 15]\n",
      " [14 16 18]]\n"
     ]
    }
   ],
   "source": [
    "p = np.array([[0, 0, 0],[1, 2, 3],[4, 5, 6]])\n",
    "q = np.array([10, 11, 12])\n",
    "pq = p+q\n",
    "print(pq)"
   ]
  },
  {
   "cell_type": "markdown",
   "metadata": {},
   "source": [
    "## Q4 Write a NumPy program to make an array immutable "
   ]
  },
  {
   "cell_type": "code",
   "execution_count": 115,
   "metadata": {},
   "outputs": [],
   "source": [
    "a=np.ones(5)\n",
    "a.flags.writeable = False\n",
    "#a[1]=2"
   ]
  },
  {
   "cell_type": "markdown",
   "metadata": {},
   "source": [
    "## Q5 Write a NumPy program to create a new array of 3*5, filled with 2"
   ]
  },
  {
   "cell_type": "code",
   "execution_count": 116,
   "metadata": {},
   "outputs": [
    {
     "name": "stdout",
     "output_type": "stream",
     "text": [
      "[[2. 2. 2. 2. 2.]\n",
      " [2. 2. 2. 2. 2.]\n",
      " [2. 2. 2. 2. 2.]]\n"
     ]
    }
   ],
   "source": [
    "x = 2 * np.ones([3,5])\n",
    "print(x)"
   ]
  },
  {
   "cell_type": "markdown",
   "metadata": {},
   "source": [
    "## Q6 Write a NumPy program to get the number of nonzero elements in an array\n",
    "\n",
    "- array = [[0, 10, 20], [20, 0, 40]]"
   ]
  },
  {
   "cell_type": "code",
   "execution_count": 117,
   "metadata": {},
   "outputs": [
    {
     "name": "stdout",
     "output_type": "stream",
     "text": [
      "4\n"
     ]
    }
   ],
   "source": [
    "array = [[0, 10, 20], [20, 0, 40]]\n",
    "print(np.count_nonzero(array))"
   ]
  },
  {
   "cell_type": "markdown",
   "metadata": {},
   "source": [
    "## Q7 Write a NumPy program to get the minimum and maximum value of an array along the second axis\n",
    "\n",
    "- create array 2x2 contains data from 0 to 3 "
   ]
  },
  {
   "cell_type": "code",
   "execution_count": 118,
   "metadata": {},
   "outputs": [
    {
     "name": "stdout",
     "output_type": "stream",
     "text": [
      "[0 2]\n",
      "[1 3]\n"
     ]
    }
   ],
   "source": [
    "myrange = np.arange(0,4).reshape(2,2)\n",
    "print(np.min(myrange,axis=1))\n",
    "print(np.max(myrange,axis=1))"
   ]
  },
  {
   "cell_type": "markdown",
   "metadata": {},
   "source": [
    "## Q8  Write a NumPy program to compute the mean, median,standard deviation, and variance of a given array \n",
    "\n",
    "- array = [0 4 2 1 3 5]"
   ]
  },
  {
   "cell_type": "code",
   "execution_count": 119,
   "metadata": {
    "pycharm": {
     "name": "#%%\n"
    }
   },
   "outputs": [
    {
     "name": "stdout",
     "output_type": "stream",
     "text": [
      "2.5\n",
      "2.5\n",
      "1.707825127659933\n",
      "2.9166666666666665\n"
     ]
    }
   ],
   "source": [
    "array = [0,4,2,1,3,5]\n",
    "print(np.mean(array))\n",
    "print(np.median(array))\n",
    "print(np.std(array))\n",
    "print(np.var(array))\n"
   ]
  }
 ],
 "metadata": {
  "kernelspec": {
   "display_name": "Python 3",
   "language": "python",
   "name": "python3"
  },
  "language_info": {
   "codemirror_mode": {
    "name": "ipython",
    "version": 3
   },
   "file_extension": ".py",
   "mimetype": "text/x-python",
   "name": "python",
   "nbconvert_exporter": "python",
   "pygments_lexer": "ipython3",
   "version": "3.7.6"
  }
 },
 "nbformat": 4,
 "nbformat_minor": 4
}